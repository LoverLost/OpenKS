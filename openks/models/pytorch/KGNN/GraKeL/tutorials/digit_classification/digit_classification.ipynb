{
 "cells": [
  {
   "cell_type": "markdown",
   "metadata": {},
   "source": [
    "# Digit Classification\n",
    "In this tutorial, we will use graph kernels to classify hand-written digits. Each datapoint is a 8x8 image of a digit. There are 10 classes in total, and each class refers to a digit. The dataset is contained in scikit-learn and we can load it using the *load_digits()* function."
   ]
  },
  {
   "cell_type": "code",
   "execution_count": 1,
   "metadata": {},
   "outputs": [
    {
     "data": {
      "image/png": "[encoded data removed]",
      "text/plain": [
       "<Figure size 432x288 with 4 Axes>"
      ]
     },
     "metadata": {
      "needs_background": "light"
     },
     "output_type": "display_data"
    }
   ],
   "source": [
    "import numpy as np\n",
    "import matplotlib.pyplot as plt\n",
    "%matplotlib inline\n",
    "\n",
    "from sklearn.datasets import load_digits\n",
    "import warnings\n",
    "warnings.filterwarnings('ignore')\n",
    "\n",
    "digits = load_digits()\n",
    "\n",
    "images = digits.images\n",
    "n_samples, height, width = images.shape\n",
    "y = digits.target\n",
    "for i in range(4):\n",
    "    plt.subplot(1, 4, i + 1)\n",
    "    plt.axis('off')\n",
    "    plt.imshow(images[i], cmap=plt.cm.gray_r, interpolation='nearest')\n",
    "    plt.title('Training: %i' % y[i])"
   ]
  },
  {
   "cell_type": "markdown",
   "metadata": {},
   "source": [
    "We will now transform the digits into graphs and perform graph classification. We will transform each image into a square grid graph. Each pixel corresponds to a node. Two nodes are connected by an edge if they are direct neighbors. For instance, pixel (0,0) is connected to pixel (1,0) and to pixel (0,1). Note also that the node attributes (i.e., pixel intensities) are transformed into discrete labels, and that the edges are also assigned dicrete labels (i.e., labels 1 and 2 for the horizontal and vertical edges, respectively)."
   ]
  },
  {
   "cell_type": "code",
   "execution_count": 2,
   "metadata": {},
   "outputs": [
    {
     "name": "stdout",
     "output_type": "stream",
     "text": [
      "Transforming images to graphs\n"
     ]
    }
   ],
   "source": [
    "from grakel import Graph\n",
    "\n",
    "print(\"Transforming images to graphs\")\n",
    "graphs = list()\n",
    "edges = list()\n",
    "edge_labels = dict()\n",
    "for i in range(height):\n",
    "    for j in range(width):\n",
    "        if j < width-1:\n",
    "            edges.append((i*height+j, i*height+j+1))\n",
    "            edge_labels[(i*height+j, i*height+j+1)] = 1\n",
    "        if i < height-1:\n",
    "            edges.append((i*height+j, (i+1)*height+j))\n",
    "            edge_labels[(i*height+j, (i+1)*height+j)] = 2\n",
    "\n",
    "for i in range(n_samples):\n",
    "    node_labels = dict()\n",
    "    for j in range(height):\n",
    "        for k in range(width):\n",
    "            node_labels[j*height+k] = int(images[i,j,k]/4)\n",
    "    \n",
    "    graphs.append(Graph(edges, node_labels=node_labels, edge_labels=edge_labels))"
   ]
  },
  {
   "cell_type": "markdown",
   "metadata": {},
   "source": [
    "We next split the dataset into a training and a test set."
   ]
  },
  {
   "cell_type": "code",
   "execution_count": 3,
   "metadata": {},
   "outputs": [
    {
     "name": "stdout",
     "output_type": "stream",
     "text": [
      "Splitting dataset into train/test (1000/100 instances)\n"
     ]
    }
   ],
   "source": [
    "print(\"Splitting dataset into train/test (1000/100 instances)\")\n",
    "graphs_train, graphs_test = graphs[:1000], graphs[1000:1100]\n",
    "y_train, y_test = y[:1000], y[1000:1100]"
   ]
  },
  {
   "cell_type": "markdown",
   "metadata": {},
   "source": [
    "We finally use the *neighborhood subgraph pairwise distance* kernel to generate the two kernel matrices and classify the digits. Note that this kernel can handle both node labels and edge labels. To perform classification, we pass the two matrices on to the SVM classifier, and we compute the accuracy of the predictions."
   ]
  },
  {
   "cell_type": "code",
   "execution_count": 4,
   "metadata": {},
   "outputs": [
    {
     "name": "stdout",
     "output_type": "stream",
     "text": [
      "Computing kernel matrics\n",
      "\n",
      "done in 33.948s\n",
      "\n",
      "Classifying digits\n",
      "\n",
      "Classification accuracy: 0.90\n"
     ]
    }
   ],
   "source": [
    "from time import time\n",
    "from grakel.kernels import NeighborhoodSubgraphPairwiseDistance\n",
    "from sklearn.svm import SVC\n",
    "from sklearn.metrics import accuracy_score\n",
    "\n",
    "# Initialize neighborhood subgraph pairwise distance kernel\n",
    "gk = NeighborhoodSubgraphPairwiseDistance(r=3, d=2)\n",
    "\n",
    "print(\"Computing kernel matrics\\n\")\n",
    "t0 = time()\n",
    "K_train = gk.fit_transform(graphs_train)\n",
    "K_test = gk.transform(graphs_test)\n",
    "print(\"done in %0.3fs\\n\" % (time() - t0))\n",
    "\n",
    "print(\"Classifying digits\\n\")\n",
    "# Initialize SVM\n",
    "clf = SVC(kernel='precomputed')\n",
    "\n",
    "# Fit on the train Kernel\n",
    "clf.fit(K_train, y_train)\n",
    "\n",
    "# Predict and test.\n",
    "y_pred = clf.predict(K_test)\n",
    "\n",
    "# Calculate accuracy of classification.\n",
    "print(\"Classification accuracy: %0.2f\" % accuracy_score(y_test, y_pred))"
   ]
  }
 ],
 "metadata": {
  "kernelspec": {
   "display_name": "Python 3",
   "language": "python",
   "name": "python3"
  },
  "language_info": {
   "codemirror_mode": {
    "name": "ipython",
    "version": 3
   },
   "file_extension": ".py",
   "mimetype": "text/x-python",
   "name": "python",
   "nbconvert_exporter": "python",
   "pygments_lexer": "ipython3",
   "version": "3.7.3"
  }
 },
 "nbformat": 4,
 "nbformat_minor": 2
}
